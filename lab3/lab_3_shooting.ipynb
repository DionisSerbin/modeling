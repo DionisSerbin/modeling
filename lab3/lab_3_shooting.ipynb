{
 "cells": [
  {
   "cell_type": "markdown",
   "source": [],
   "metadata": {
    "collapsed": false,
    "pycharm": {
     "name": "#%% md\n"
    }
   }
  },
  {
   "cell_type": "code",
   "execution_count": 130,
   "outputs": [],
   "source": [
    "import random\n",
    "import matplotlib.pyplot as plt\n",
    "\n",
    "\n",
    "def generate_interval_matrix(matrix):\n",
    "    interval_matrix = []\n",
    "    for i in range(len(matrix)):\n",
    "        interval_matrix.append([])\n",
    "        for j in range(len(matrix)):\n",
    "            interval_matrix[i].append(sum(matrix[i][:(j+1)]))\n",
    "    return interval_matrix\n",
    "\n",
    "\n",
    "def generate_chain(matrix):\n",
    "    state = 0\n",
    "    transition = 0\n",
    "    while state != 2:\n",
    "        val = random.random()\n",
    "        transition += 1\n",
    "        j = 0\n",
    "        while j < len(matrix[state]) and val >= matrix[state][j]:\n",
    "            j+=1\n",
    "        state = j\n",
    "    return transition\n",
    "\n",
    "\n",
    "def generate_modeling_result(eps, matrix):\n",
    "    interval_matrix = generate_interval_matrix(matrix)\n",
    "    y = []\n",
    "    result = []\n",
    "    avg_range = 3\n",
    "    for i in range(10):\n",
    "        y.append(generate_chain(interval_matrix))\n",
    "        result.append(sum(y)/len(y))\n",
    "\n",
    "    while (max(result[-avg_range:]) - min(result[-avg_range:])) > 2 * eps:\n",
    "        y.append(generate_chain(interval_matrix))\n",
    "        result.append(sum(y)/len(y))\n",
    "    return result, sum(result[-3:])/3, len(result)\n",
    "\n"
   ],
   "metadata": {
    "collapsed": false,
    "pycharm": {
     "name": "#%%\n"
    }
   }
  },
  {
   "cell_type": "code",
   "execution_count": 142,
   "outputs": [
    {
     "name": "stdout",
     "output_type": "stream",
     "text": [
      "2.8035974411018945 2058\n"
     ]
    },
    {
     "data": {
      "text/plain": "<Figure size 432x288 with 1 Axes>",
      "image/png": "[encoded data removed]"
     },
     "metadata": {
      "needs_background": "light"
     },
     "output_type": "display_data"
    }
   ],
   "source": [
    "eps = 0.001\n",
    "\n",
    "shooting_matrix = [[0.2, 0.5, 0.3], [0, 0.6, 0.4], [0, 0, 1]]\n",
    "\n",
    "shooting_result, shooting_avg, counter = generate_modeling_result(eps, shooting_matrix)\n",
    "plt.plot(list(range(len(shooting_result))), shooting_result)\n",
    "print(shooting_avg, counter)\n"
   ],
   "metadata": {
    "collapsed": false,
    "pycharm": {
     "name": "#%%\n"
    }
   }
  },
  {
   "cell_type": "code",
   "execution_count": 147,
   "outputs": [
    {
     "name": "stdout",
     "output_type": "stream",
     "text": [
      "2.1737385701914183 1745\n"
     ]
    },
    {
     "data": {
      "text/plain": "<Figure size 432x288 with 1 Axes>",
      "image/png": "[encoded data removed]"
     },
     "metadata": {
      "needs_background": "light"
     },
     "output_type": "display_data"
    }
   ],
   "source": [
    "homework_matrix = [[0.3, 0.4, 0.3], [0, 0.2, 0.8], [0, 0, 1]]\n",
    "\n",
    "homework_result, homework_avg, counter = generate_modeling_result(eps, homework_matrix)\n",
    "plt.plot(list(range(len(homework_result))), homework_result)\n",
    "print(homework_avg, counter)"
   ],
   "metadata": {
    "collapsed": false,
    "pycharm": {
     "name": "#%%\n"
    }
   }
  }
 ],
 "metadata": {
  "kernelspec": {
   "display_name": "Python 3",
   "language": "python",
   "name": "python3"
  },
  "language_info": {
   "codemirror_mode": {
    "name": "ipython",
    "version": 2
   },
   "file_extension": ".py",
   "mimetype": "text/x-python",
   "name": "python",
   "nbconvert_exporter": "python",
   "pygments_lexer": "ipython2",
   "version": "2.7.6"
  }
 },
 "nbformat": 4,
 "nbformat_minor": 0
}